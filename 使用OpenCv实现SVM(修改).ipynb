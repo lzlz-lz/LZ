{
 "cells": [
  {
   "cell_type": "code",
   "execution_count": 6,
   "id": "e2a8d0e6-238b-4d07-bee3-bfea65f807df",
   "metadata": {},
   "outputs": [
    {
     "name": "stdout",
     "output_type": "stream",
     "text": [
      "sklearn KNN 识别手写字母集的准确率是92.99%, 测试用时: 1.67秒\n",
      "OpenCV KNN 识别手写字母集的准确率是93.0%, 测试用时: 0.1秒\n",
      "sklearn SVC 识别手写字母集的准确率是93.41%, 测试用时: 5.08秒\n",
      "OpenCV SVC 识别手写字母集的准确率是96.65%, 测试用时: 3.89秒\n"
     ]
    }
   ],
   "source": [
    "import time\n",
    "from sklearn.neighbors import KNeighborsClassifier\n",
    "from sklearn.model_selection import train_test_split\n",
    "import numpy as np\n",
    "import pandas as pd\n",
    "import cv2 as cv\n",
    "from sklearn.svm import SVC\n",
    "\n",
    "# 读取数据\n",
    "# # 参考按照 OpenCV 官网方法如下\n",
    "# data= np.loadtxt('letter-recognition.data', dtype= 'float32', delimiter = ',',\n",
    "#                     converters= {0: lambda ch: ord(ch)-ord('A')})\n",
    "# X = data[:,1:]\n",
    "# y = data[:,0]\n",
    "data = pd.read_csv('letter-recognition.data',header=None)\n",
    "X = data.drop(0,axis=1).values.astype(np.float32)\n",
    "y = np.array([ord(x)-ord('A') for x in data[0]]).astype(np.int)\n",
    "X_train, X_test, y_train, y_test = train_test_split(X,y,test_size=0.50)\n",
    "\n",
    "#########################################\n",
    "start1 = time.time()\n",
    "knn = KNeighborsClassifier(n_neighbors=5)\n",
    "knn.fit(X_train,y_train)\n",
    "knn_acc=knn.score(X_test,y_test.ravel())*100\n",
    "end1 = time.time()\n",
    "print(f\"sklearn KNN 识别手写字母集的准确率是{round(knn_acc,2)}%, 测试用时: {round(end1 - start1,2)}秒\")\n",
    "\n",
    "#########################################\n",
    "start2 = time.time()\n",
    "knn = cv.ml.KNearest_create()\n",
    "knn.train(X_train, cv.ml.ROW_SAMPLE, y_train)\n",
    "ret, result, neighbours, dist = knn.findNearest(X_test, k=5)\n",
    "correct = np.count_nonzero(result.ravel() == y_test)\n",
    "opencv_knn_acc = correct*100/10000\n",
    "end2 = time.time()\n",
    "print(f\"OpenCV KNN 识别手写字母集的准确率是{round(opencv_knn_acc,2)}%, 测试用时: {round(end2 - start2,2)}秒\")\n",
    "\n",
    "#########################################\n",
    "start3 = time.time()\n",
    "svc = SVC(C=2.67)\n",
    "svc.fit(X_train,y_train)\n",
    "svc_acc=svc.score(X_test,y_test.ravel())*100\n",
    "end3 = time.time()\n",
    "print(f\"sklearn SVC 识别手写字母集的准确率是{round(svc_acc,2)}%, 测试用时: {round(end3 - start3,2)}秒\")\n",
    "\n",
    "#########################################\n",
    "start4 = time.time()\n",
    "svm = cv.ml.SVM_create()\n",
    "# svm.setKernel(cv.ml.SVM_LINEAR) # 如果使用 linear 我们发现准确率是60%左右\n",
    "# 经过调研 https://docs.opencv.org/3.4/d1/d2d/classcv_1_1ml_1_1SVM.html\n",
    "# 我们发现，如果想要使用 rbf 核，应该提供的参数是 CHI2\n",
    "svm.setKernel(cv.ml.SVM_CHI2)\n",
    "svm.setType(cv.ml.SVM_C_SVC)\n",
    "svm.setC(2.67) \n",
    "svm.train(X_train, cv.ml.ROW_SAMPLE, y_train)\n",
    "y_predict = svm.predict(X_test)\n",
    "# print(y_predict)\n",
    "correct = np.count_nonzero(y_predict[1].ravel() == y_test)\n",
    "opencv_svm_acc = correct*100/10000\n",
    "end4 = time.time()\n",
    "print(f\"OpenCV SVC 识别手写字母集的准确率是{round(opencv_svm_acc,2)}%, 测试用时: {round(end4 - start4,2)}秒\")"
   ]
  },
  {
   "cell_type": "code",
   "execution_count": null,
   "id": "6aeaf7e5-be8f-4b02-9e2b-a5e78c7284ba",
   "metadata": {},
   "outputs": [],
   "source": []
  }
 ],
 "metadata": {
  "kernelspec": {
   "display_name": "Python 3 (ipykernel)",
   "language": "python",
   "name": "python3"
  },
  "language_info": {
   "codemirror_mode": {
    "name": "ipython",
    "version": 3
   },
   "file_extension": ".py",
   "mimetype": "text/x-python",
   "name": "python",
   "nbconvert_exporter": "python",
   "pygments_lexer": "ipython3",
   "version": "3.9.7"
  }
 },
 "nbformat": 4,
 "nbformat_minor": 5
}
