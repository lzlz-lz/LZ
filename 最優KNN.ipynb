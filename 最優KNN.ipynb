{
 "cells": [
  {
   "cell_type": "code",
   "execution_count": 13,
   "id": "e54f91e9-2429-4195-a752-020fc5d06475",
   "metadata": {},
   "outputs": [
    {
     "data": {
      "image/png": "[encoded data removed]",
      "text/plain": [
       "<Figure size 576x396 with 1 Axes>"
      ]
     },
     "metadata": {},
     "output_type": "display_data"
    }
   ],
   "source": [
    "import pandas as pd\n",
    "import numpy as np\n",
    "from sklearn.preprocessing import StandardScaler\n",
    "from sklearn.neighbors import KNeighborsClassifier\n",
    "from sklearn.model_selection import train_test_split\n",
    "\n",
    "import matplotlib.pyplot as plt\n",
    "\n",
    "df = pd.read_csv(\"knn_test_data\", index_col=0)\n",
    "\n",
    "# 1. 获取X和y\n",
    "X = df.drop('TARGET CLASS', axis=1)\n",
    "y = df['TARGET CLASS']\n",
    "\n",
    "# 2. 标准化df的数据部分内容\n",
    "X_arr = StandardScaler().fit_transform(X)\n",
    "X_std = pd.DataFrame(X_arr,columns=df.columns[:-1])\n",
    "\n",
    "# 3. Train Test Split\n",
    "X_train, X_test, y_train, y_test = train_test_split(X_std,y,test_size=0.30)\n",
    "\n",
    "# 4. 创建KNN模型\n",
    "K=np.arange(1,701)\n",
    "PredictList = []\n",
    "\n",
    "for i in K:\n",
    "    knn = KNeighborsClassifier(n_neighbors=i)\n",
    "    knn.fit(X_train,y_train)\n",
    "\n",
    "    # 5. 获得算法的准确率\n",
    "    acc=knn.score(X_test,y_test) # <--- 判断此knn模型的准确率\n",
    "    #print(\"当K=\",K,\"的时候此knn模型的准确率为\",acc)\n",
    "    PredictList.append(acc)\n",
    "\n",
    "PredictList = np.array(PredictList)\n",
    "#print(PredictList.shape)\n",
    "\n",
    "#繪圖\n",
    "#plt.style.use('seaborn')   # 使用美化的seaborn风格\n",
    "plt.plot(K,PredictList,\n",
    "        linestyle='dashed', color='blue', \n",
    "        marker='o',markerfacecolor='red', markersize=5)\n",
    "\n",
    "#聯合K和PredictList\n",
    "link = pd.Series(PredictList,index = K)\n",
    "#尋找最大值及對應坐標\n",
    "def MAX(link):\n",
    "    for IndexValues in link.index.values:\n",
    "        if link[IndexValues] == link.max():\n",
    "            return IndexValues,link.max()\n",
    "In,Va = MAX(link)\n",
    "plt.axvline(x=In,ymin=0, ymax=Va,linewidth=1, color='#4798b3')\n",
    "plt.text(In, Va,f'K={In},acc={Va}')\n",
    "        \n",
    "plt.show()"
   ]
  },
  {
   "cell_type": "code",
   "execution_count": null,
   "id": "996bf2d4-8f33-4284-a3ac-c644d181ed09",
   "metadata": {},
   "outputs": [],
   "source": []
  },
  {
   "cell_type": "code",
   "execution_count": null,
   "id": "9d944898-8d4a-415d-b3b7-67641475300d",
   "metadata": {},
   "outputs": [],
   "source": []
  },
  {
   "cell_type": "code",
   "execution_count": null,
   "id": "d46580a4-d687-4c38-a7fd-b8dcaad9df27",
   "metadata": {},
   "outputs": [],
   "source": []
  }
 ],
 "metadata": {
  "kernelspec": {
   "display_name": "Python 3 (ipykernel)",
   "language": "python",
   "name": "python3"
  },
  "language_info": {
   "codemirror_mode": {
    "name": "ipython",
    "version": 3
   },
   "file_extension": ".py",
   "mimetype": "text/x-python",
   "name": "python",
   "nbconvert_exporter": "python",
   "pygments_lexer": "ipython3",
   "version": "3.9.7"
  }
 },
 "nbformat": 4,
 "nbformat_minor": 5
}
