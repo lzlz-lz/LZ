{
 "cells": [
  {
   "cell_type": "markdown",
   "id": "0df649ea-e3d9-4d66-b753-311be4dfde6c",
   "metadata": {},
   "source": [
    "## knn运行时间及准确率"
   ]
  },
  {
   "cell_type": "code",
   "execution_count": 1,
   "id": "acc8f652-544b-42b6-b074-14e0206d3863",
   "metadata": {},
   "outputs": [
    {
     "name": "stdout",
     "output_type": "stream",
     "text": [
      "KNN 数据拟合时长:0.0274秒\n",
      "KNN 准确率测试时长:4.0183秒\n",
      "KNN 准确率:0.5714\n"
     ]
    }
   ],
   "source": [
    "from sklearn.preprocessing import StandardScaler\n",
    "from sklearn.neighbors import KNeighborsClassifier\n",
    "from sklearn.model_selection import train_test_split\n",
    "import time\n",
    "import pickle\n",
    "import cv2 as cv\n",
    "import numpy as np\n",
    "\n",
    "# 以二进制的形式把 X,y 中保存的对象读入\n",
    "with open(\"X\", 'rb') as f:\n",
    "    X = pickle.load(f)\n",
    "with open(\"y\", 'rb') as f:\n",
    "    y = pickle.load(f)\n",
    "\n",
    "#划分数据集\n",
    "X_train, X_test, y_train, y_test = train_test_split(X,y,test_size=0.25)\n",
    "\n",
    "#在knn识别猫狗中最佳k为19\n",
    "k=19\n",
    "knn = KNeighborsClassifier(n_neighbors=k)\n",
    "\n",
    "#训练計時開始\n",
    "start1 = time.time()\n",
    "\n",
    "#knn匹配训练集\n",
    "knn.fit(X_train,y_train)\n",
    "\n",
    "#训练計時結束\n",
    "end1 = time.time() \n",
    "\n",
    "#用时\n",
    "time1 = end1 - start1\n",
    "\n",
    "#获取准确率計時開始\n",
    "start2 = time.time()\n",
    "\n",
    "# 获得准确率\n",
    "acc1=knn.score(X_test,y_test) # <--- 判断此knn模型的准确率\n",
    "\n",
    "#获取准确率計時結束\n",
    "end2 = time.time() \n",
    "\n",
    "#用时\n",
    "time2 = end2 - start2\n",
    "\n",
    "print(f'KNN 数据拟合时长:{round(time1,4)}秒\\nKNN 准确率测试时长:{round(time2,4)}秒\\nKNN 准确率:{round(acc1,4)}')\n"
   ]
  },
  {
   "cell_type": "markdown",
   "id": "f75521ab-428b-4d28-8d8c-d09a3aadb231",
   "metadata": {},
   "source": [
    "## SVC运行时间及准确率"
   ]
  },
  {
   "cell_type": "code",
   "execution_count": 4,
   "id": "5f8e0309-9ce5-49bf-8025-5698091a8768",
   "metadata": {},
   "outputs": [
    {
     "name": "stdout",
     "output_type": "stream",
     "text": [
      "SVC 数据拟合时长:821.5544秒\n",
      "SVC 准确率测试时长:240.6649秒\n",
      "SVC 准确率:0.6563\n"
     ]
    }
   ],
   "source": [
    "from sklearn.svm import SVC\n",
    "from sklearn import datasets,svm,metrics\n",
    "from sklearn.metrics import  confusion_matrix,accuray_score\n",
    "\n",
    "clf = svm.SVC()\n",
    "\n",
    "#拟合計時開始\n",
    "start3 = time.time()\n",
    "\n",
    "clf.fit(X_train, y_train) \n",
    "#拟合計時結束\n",
    "end3 = time.time()\n",
    "time3 = end3 - start3\n",
    "\n",
    "#测试准确率計時開始\n",
    "start4 = time.time()\n",
    "\n",
    "acc2 = clf.score(X_test,y_test)\n",
    "\n",
    "#测试准确率計時結束\n",
    "end4 = time.time()\n",
    "time4 = end4 - start4\n",
    "print(f'SVC 数据拟合时长:{round(time3,4)}秒\\nSVC 准确率测试时长:{round(time4,4)}秒\\nSVC 准确率:{round(acc2,4)}')"
   ]
  },
  {
   "cell_type": "markdown",
   "id": "6d448fce-588e-4f96-bd79-1734ecc9d1f8",
   "metadata": {},
   "source": [
    "### 采用OpenCv方法未成功做出"
   ]
  },
  {
   "cell_type": "code",
   "execution_count": 72,
   "id": "f0e009da-8979-42bf-a6e6-68bbe330a0d5",
   "metadata": {},
   "outputs": [
    {
     "ename": "error",
     "evalue": "OpenCV(4.6.0) :-1: error: (-5:Bad argument) in function 'train'\n> Overload resolution failed:\n>  - ml_StatModel.train() takes at most 2 arguments (3 given)\n>  - samples data type = 19 is not supported\n>  - Expected Ptr<cv::UMat> for argument 'samples'\n",
     "output_type": "error",
     "traceback": [
      "\u001b[0;31m---------------------------------------------------------------------------\u001b[0m",
      "\u001b[0;31merror\u001b[0m                                     Traceback (most recent call last)",
      "\u001b[0;32m/tmp/ipykernel_85/1824484695.py\u001b[0m in \u001b[0;36m<module>\u001b[0;34m\u001b[0m\n\u001b[1;32m     18\u001b[0m \u001b[0mstart3\u001b[0m \u001b[0;34m=\u001b[0m \u001b[0mtime\u001b[0m\u001b[0;34m.\u001b[0m\u001b[0mtime\u001b[0m\u001b[0;34m(\u001b[0m\u001b[0;34m)\u001b[0m\u001b[0;34m\u001b[0m\u001b[0;34m\u001b[0m\u001b[0m\n\u001b[1;32m     19\u001b[0m \u001b[0;34m\u001b[0m\u001b[0m\n\u001b[0;32m---> 20\u001b[0;31m \u001b[0mknn\u001b[0m\u001b[0;34m.\u001b[0m\u001b[0mtrain\u001b[0m\u001b[0;34m(\u001b[0m\u001b[0mtrainData\u001b[0m\u001b[0;34m,\u001b[0m \u001b[0mcv\u001b[0m\u001b[0;34m.\u001b[0m\u001b[0mml\u001b[0m\u001b[0;34m.\u001b[0m\u001b[0mROW_SAMPLE\u001b[0m\u001b[0;34m,\u001b[0m \u001b[0mresponses\u001b[0m\u001b[0;34m)\u001b[0m\u001b[0;34m\u001b[0m\u001b[0;34m\u001b[0m\u001b[0m\n\u001b[0m\u001b[1;32m     21\u001b[0m \u001b[0;34m\u001b[0m\u001b[0m\n\u001b[1;32m     22\u001b[0m \u001b[0;31m#拟合計時結束\u001b[0m\u001b[0;34m\u001b[0m\u001b[0;34m\u001b[0m\u001b[0m\n",
      "\u001b[0;31merror\u001b[0m: OpenCV(4.6.0) :-1: error: (-5:Bad argument) in function 'train'\n> Overload resolution failed:\n>  - ml_StatModel.train() takes at most 2 arguments (3 given)\n>  - samples data type = 19 is not supported\n>  - Expected Ptr<cv::UMat> for argument 'samples'\n"
     ]
    }
   ],
   "source": [
    "X = np.array(X)\n",
    "y = np.array(y).reshape(-1,1)\n",
    "z =np.concatenate((X,y),axis=1)\n",
    "\n",
    "# 将数据集一分为二，训练集和测试集各有均等2份\n",
    "data = z\n",
    "train, test = np.vsplit(data,2)\n",
    "\n",
    "# 将 trainData 和 testData 拆分为特征和响应\n",
    "trainData,responses = np.hsplit(train,[-1])\n",
    "testData,labels = np.hsplit(test,[-1])\n",
    "\n",
    "\n",
    "## kNN分类\n",
    "knn = cv.ml.KNearest_create()\n",
    "\n",
    "#拟合計時開始\n",
    "start3 = time.time()\n",
    "\n",
    "knn.train(trainData, cv.ml.ROW_SAMPLE, responses)\n",
    "\n",
    "#拟合計時結束\n",
    "end3 = time.time()\n",
    "time3 = end3 - start3\n",
    "\n",
    "ret, result, neighbours, dist = knn.findNearest(testData, 19)\n",
    "\n",
    "#测试准确率計時開始\n",
    "start4 = time.time()\n",
    "\n",
    "correct = np.count_nonzero(result == labels) \n",
    "acc2 = correct*100.0/12500\n",
    "\n",
    "#测试准确率計時結束\n",
    "end4 = time.time()\n",
    "time4 = end4 - start4\n",
    "\n"
   ]
  }
 ],
 "metadata": {
  "kernelspec": {
   "display_name": "Python 3 (ipykernel)",
   "language": "python",
   "name": "python3"
  },
  "language_info": {
   "codemirror_mode": {
    "name": "ipython",
    "version": 3
   },
   "file_extension": ".py",
   "mimetype": "text/x-python",
   "name": "python",
   "nbconvert_exporter": "python",
   "pygments_lexer": "ipython3",
   "version": "3.9.7"
  }
 },
 "nbformat": 4,
 "nbformat_minor": 5
}
