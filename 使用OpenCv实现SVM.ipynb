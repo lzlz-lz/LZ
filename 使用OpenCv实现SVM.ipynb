{
 "cells": [
  {
   "cell_type": "code",
   "execution_count": 25,
   "id": "4aeb5922-5c08-41cc-91c6-3c4a0eacf719",
   "metadata": {},
   "outputs": [
    {
     "name": "stdout",
     "output_type": "stream",
     "text": [
      "sklearn SVM 识别手写字母集的准确率是0.9566666666666667%, 测试用时: 16.620330572128296秒\n"
     ]
    }
   ],
   "source": [
    "import sys,time\n",
    "from sklearn.datasets import load_digits\n",
    "from sklearn.neighbors import KNeighborsClassifier\n",
    "from sklearn.model_selection import train_test_split\n",
    "from sklearn.preprocessing import StandardScaler\n",
    "import matplotlib.pyplot as plt\n",
    "from sklearn import preprocessing\n",
    "import pandas as pd\n",
    "import numpy as np\n",
    "import math\n",
    "import pandas as pd\n",
    "\n",
    "#读取数据\n",
    "df= pd.read_csv('letter-recognition.data', sep=',',header=None)\n",
    "\n",
    "#创建映射\n",
    "dict={\"A\":1,'B':2,'C':3,'D':4,'E':5,'F':6,'G':7,'H':8,'I':9,'J':10,'K':11,'L':12,'M':13,'N':14,'O':15,'P':16,'Q':17,'R':18,'S':19,'T':20,'U':21,'V':22,'W':23,'X':24,'Y':25,'Z':26}\n",
    "df[0]=df[0].map(dict)\n",
    "\n",
    "#1.获取X和y\n",
    "X = df.drop(0,axis=1)\n",
    "y = df[0]\n",
    "#X=(X-X.min())/(X.max()-X.min())\n",
    "\n",
    "# 2. train_test_split\n",
    "X_train, X_test, y_train, y_test = train_test_split(X,y,test_size=0.30)\n",
    "\n",
    "acc1=[]\n",
    "\n",
    "#計時開始\n",
    "start1 = time.time()\n",
    "\n",
    "# 3. 创建KNN模型\n",
    "l=[i for i in range(1,int(math.sqrt(2000)/2.5))]#int(math.sqrt(1270)/2)\n",
    "#k = np.arange(1,np.sqrt(X_train.shape[0]))\n",
    "\n",
    "for i in l:\n",
    "    knn = KNeighborsClassifier(n_neighbors=i)\n",
    "    knn.fit(X_train,y_train)\n",
    "    acc=knn.score(X_test,y_test) \n",
    "    #print(\"当K=\",K,\"的时候此knn模型的准确率为\",acc)\n",
    "    acc1.append(acc)\n",
    "    \n",
    "#計時結束\n",
    "end1 = time.time()    \n",
    "totaltime = end1 - start1\n",
    "\n",
    "acc1 = np.array(acc1)\n",
    "\n",
    "print( f'sklearn SVM 识别手写字母集的准确率是{acc1.max()}%, 测试用时: {totaltime}秒' )"
   ]
  },
  {
   "cell_type": "code",
   "execution_count": null,
   "id": "1e5508c3-ce46-4642-8ccd-3aeb4cf0f6ac",
   "metadata": {},
   "outputs": [],
   "source": [
    "import cv2 as cv\n",
    "import time\n",
    "import numpy as np\n",
    "\n",
    "# 加载数据并将字母转换为数字\n",
    "data= np.loadtxt('letter-recognition.data', dtype= 'float32', delimiter = ',',\n",
    "                    converters= {0: lambda ch: ord(ch)-ord('A')})\n",
    "\n",
    "# 将数据集一分为二，训练集和测试集各有 10000 个样本\n",
    "train, test = np.vsplit(data,2)\n",
    "\n",
    "# 将 trainData 和 testData 拆分为特征和响应\n",
    "responses, trainData = np.hsplit(train,[1])\n",
    "labels, testData = np.hsplit(test,[1])\n",
    "\n",
    "#計時開始\n",
    "start2 = time.time()\n",
    "\n",
    "acc2 = []\n",
    "# kNN，分类，测量准确率\n",
    "for i in range(1,int(np.sqrt(train.shape[0]))):\n",
    "    knn = cv.ml.KNearest_create()\n",
    "    knn.train(trainData, cv.ml.ROW_SAMPLE, responses)\n",
    "    ret, result, neighbours, dist = knn.findNearest(testData, k=5)\n",
    "    correct = np.count_nonzero(result == labels)\n",
    "    accuracy = correct*100.0/10000\n",
    "    acc2.append(accuracy)\n",
    "    \n",
    "acc2 = np.array(acc2)\n",
    "    \n",
    "#計時結束\n",
    "end2 = time.time()\n",
    "\n",
    "TotalTime2 = end2 - start2\n",
    "\n",
    "print( f'OpenCV SVM 识别手写字母集的准确率是{acc2.max()}%, 测试用时: {TotalTime2}秒' )"
   ]
  },
  {
   "cell_type": "code",
   "execution_count": 30,
   "id": "cc88031a-5034-4b94-84c2-db8835414b7c",
   "metadata": {},
   "outputs": [
    {
     "name": "stdout",
     "output_type": "stream",
     "text": [
      "sklearn SVM 识别手写字母集的准确率是96.0%, 测试用时: 16.62秒\n",
      "OpenCV SVM 识别手写字母集的准确率是93.06%, 测试用时: 8.38秒\n"
     ]
    }
   ],
   "source": [
    "print( f'sklearn SVM 识别手写字母集的准确率是{acc1.max().round(2)*100}%, 测试用时: {round(totaltime,2)}秒' )\n",
    "print( f'OpenCV SVM 识别手写字母集的准确率是{acc2.max()}%, 测试用时: {round(TotalTime2,2)}秒' )"
   ]
  },
  {
   "cell_type": "code",
   "execution_count": null,
   "id": "9639d6b5-f299-4368-91fd-f7f5a5c0e133",
   "metadata": {},
   "outputs": [],
   "source": []
  }
 ],
 "metadata": {
  "kernelspec": {
   "display_name": "Python 3 (ipykernel)",
   "language": "python",
   "name": "python3"
  },
  "language_info": {
   "codemirror_mode": {
    "name": "ipython",
    "version": 3
   },
   "file_extension": ".py",
   "mimetype": "text/x-python",
   "name": "python",
   "nbconvert_exporter": "python",
   "pygments_lexer": "ipython3",
   "version": "3.9.7"
  }
 },
 "nbformat": 4,
 "nbformat_minor": 5
}
